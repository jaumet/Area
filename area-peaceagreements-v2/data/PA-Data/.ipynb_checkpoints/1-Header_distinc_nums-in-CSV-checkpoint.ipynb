{
 "cells": [
  {
   "cell_type": "code",
   "execution_count": 1,
   "metadata": {},
   "outputs": [],
   "source": [
    "import numpy as np\n",
    "import pandas as pd"
   ]
  },
  {
   "cell_type": "code",
   "execution_count": 2,
   "metadata": {},
   "outputs": [
    {
     "name": "stdout",
     "output_type": "stream",
     "text": [
      "0-readme.txt                        369_no_agreements.csv\r\n",
      "\u001b[0m\u001b[01;34m1-CSV\u001b[0m/                              369-pax_data_369_agreements_03-09-19.csv\r\n",
      "1-Header_distinc_nums-in-CSV.ipynb  3-PA-all-links.txt\r\n",
      "\u001b[01;32m2-csv2json.py\u001b[0m*                      pa.js\r\n",
      "369-cf2.json                        pax_all_agreements_corpus.csv\r\n",
      "\u001b[01;32m369-cf-config.js\u001b[0m*                   pax_all_agreements_data.csv\r\n",
      "369-cf.js                           pax_all_agreements_data.xlsx\r\n",
      "369-cf.json                         pax_corpus-CP.csv\r\n",
      "369-cf_mini.js                      Untitled.ipynb\r\n",
      "369-cf_mini.json\r\n"
     ]
    }
   ],
   "source": [
    "ls"
   ]
  },
  {
   "cell_type": "code",
   "execution_count": 11,
   "metadata": {},
   "outputs": [],
   "source": [
    "df_corpus = pd.read_csv('pax_all_agreements_corpus.csv')"
   ]
  },
  {
   "cell_type": "code",
   "execution_count": 12,
   "metadata": {},
   "outputs": [
    {
     "name": "stdout",
     "output_type": "stream",
     "text": [
      "      AgreementId                                               Name  \\\n",
      "0            1739  Agreement between the Islamic Republic of Afgh...   \n",
      "1            1923  Agreement between the two campaign teams regar...   \n",
      "2             864  Tokyo Declaration Partnership for Self-Relianc...   \n",
      "3             848  Conclusions of the Conference on Afghanistan a...   \n",
      "4             849  Istanbul Process on Regional Security and Coop...   \n",
      "5             709  Renewed Commitment by the Afghan Government to...   \n",
      "6             708  The Resolution Adopted at the Conclusion of th...   \n",
      "7             707  Communiqué of the Conference on Afghan Leaders...   \n",
      "8             706  Statement of the International Conference on A...   \n",
      "9             847  Declaration of the Special Conference on Afgha...   \n",
      "10            705  Declaration of the International Conference in...   \n",
      "11           1069  Rome Conference on Justice and Rule of Law in ...   \n",
      "12           1061  Afghanistan Compact Building on Success (Londo...   \n",
      "13           1054             Berlin Declaration (Berlin Conference)   \n",
      "14            909    Kabul Declaration of Good Neighbourly Relations   \n",
      "15            908  Communiqué of the International Conference on ...   \n",
      "16            272  Agreement on Provisional Arrangements in Afgha...   \n",
      "17            553  Tashkent Declaration on Fundamental Principles...   \n",
      "18            409             Afghan Peace Accord (Islamabad Accord)   \n",
      "19            482                                    Peshawar Accord   \n",
      "20           1070  Joint Declaration adopted by Pak-Afghan Joint ...   \n",
      "21           1595  Project de charte pour la paix et la réconcili...   \n",
      "22           1738  Texts for Implementing Acts relating to the Re...   \n",
      "23           1737                                  Civil Harmony Act   \n",
      "24           1255                 Plate-forme de l'entente nationale   \n",
      "25           1044  Plate-forme pour une solution politique et pac...   \n",
      "26            484  Plate-forme portant consensus national sur la ...   \n",
      "27            978  Luena Memorandum of Understanding (Addendum to...   \n",
      "28            305                    Angolan Government's Peace Plan   \n",
      "29            299  Agreement signed by the Government of the Repu...   \n",
      "...           ...                                                ...   \n",
      "1759         1676  Agreement between the Tribes of ʿUbaydah and A...   \n",
      "1760         1884  Peace and National Partnership Implementation ...   \n",
      "1761         2006  Agreement to Cease Fire between the Tihami Mov...   \n",
      "1762         2087     Untitled Agreement [in Yarim, Ibb Governorate]   \n",
      "1763          798       The Peace and National Partnership Agreement   \n",
      "1764         2082  Agreement document between the disputed partie...   \n",
      "1765         2083  al-Qa'alah and al-Aghbarah Reconciliation Agre...   \n",
      "1766         2086   al-Qa'alah and Shubayqa Reconciliation Agreement   \n",
      "1767         2084  Agreement between Ansar Allah and the al-Shila...   \n",
      "1768         1883  Agreement between Ansar Allah and Salafists fr...   \n",
      "1769         1597    Agreement between al-ʿAwlaqī Tribe and al-Qaeda   \n",
      "1770         1509  Decision on the President of the Republic No. ...   \n",
      "1771         1508  Final Decision on the delimitation of the Fede...   \n",
      "1772         2226  Agreement Between the Houthis and the Arhab Tr...   \n",
      "1773         2005                                    Ajmar Agreement   \n",
      "1774         1400     National Dialogue Conference Outcomes Document   \n",
      "1775         2215  Agreement between the Bani Maudhah, Bani al-Sh...   \n",
      "1776         2063  Letter to Presidential Mediation Council on Te...   \n",
      "1777         2004  Ceasefire between Salafists and Houthis in Dammaj   \n",
      "1778         1399  Decree No. (184) for the year 2011, to Form a ...   \n",
      "1779          758  Agreement on the Implementation Mechanism for ...   \n",
      "1780         1401  Agreement/Gulf Cooperation Council (GCC) Initi...   \n",
      "1781         1402  Presidential Decree No. (24) FY 2011, 12 Septe...   \n",
      "1782         1434  Six-Point Government of Yemen-Houthi Ceasefire...   \n",
      "1783         1433                                     Doha Agreement   \n",
      "1784          250  Agreement on a Ceasefire in the Republic of Yemen   \n",
      "1785          264  Agreement Establishing a Union between the Sta...   \n",
      "1786         1340    Constitution of Zimbabwe Amendment (No 20) 2013   \n",
      "1787          826  Agreement between the Zimbabwe African Nationa...   \n",
      "1788          828  Memorandum of Understanding between the Zimbab...   \n",
      "\n",
      "                            Region               Country  Peace Process  \\\n",
      "0               Europe and Eurasia           Afghanistan            2.0   \n",
      "1               Europe and Eurasia           Afghanistan            2.0   \n",
      "2               Europe and Eurasia           Afghanistan            2.0   \n",
      "3               Europe and Eurasia           Afghanistan            2.0   \n",
      "4               Europe and Eurasia           Afghanistan            2.0   \n",
      "5               Europe and Eurasia           Afghanistan            2.0   \n",
      "6               Europe and Eurasia           Afghanistan            2.0   \n",
      "7               Europe and Eurasia           Afghanistan            2.0   \n",
      "8               Europe and Eurasia           Afghanistan            2.0   \n",
      "9               Europe and Eurasia           Afghanistan            2.0   \n",
      "10              Europe and Eurasia           Afghanistan            2.0   \n",
      "11              Europe and Eurasia           Afghanistan            2.0   \n",
      "12              Europe and Eurasia           Afghanistan            2.0   \n",
      "13              Europe and Eurasia           Afghanistan            2.0   \n",
      "14              Europe and Eurasia           Afghanistan            2.0   \n",
      "15              Europe and Eurasia           Afghanistan            2.0   \n",
      "16              Europe and Eurasia           Afghanistan            2.0   \n",
      "17              Europe and Eurasia           Afghanistan            2.0   \n",
      "18              Europe and Eurasia           Afghanistan            1.0   \n",
      "19              Europe and Eurasia           Afghanistan            1.0   \n",
      "20                  Cross-regional  Afghanistan/Pakistan            2.0   \n",
      "21    Middle East and North Africa               Algeria            3.0   \n",
      "22    Middle East and North Africa               Algeria            3.0   \n",
      "23    Middle East and North Africa               Algeria            3.0   \n",
      "24    Middle East and North Africa               Algeria            3.0   \n",
      "25    Middle East and North Africa               Algeria            3.0   \n",
      "26    Middle East and North Africa               Algeria            3.0   \n",
      "27              Africa (excl MENA)                Angola            4.0   \n",
      "28              Africa (excl MENA)                Angola            4.0   \n",
      "29              Africa (excl MENA)                Angola            4.0   \n",
      "...                            ...                   ...            ...   \n",
      "1759  Middle East and North Africa                 Yemen           45.0   \n",
      "1760  Middle East and North Africa                 Yemen          138.0   \n",
      "1761  Middle East and North Africa                 Yemen           45.0   \n",
      "1762  Middle East and North Africa                 Yemen           45.0   \n",
      "1763  Middle East and North Africa                 Yemen          138.0   \n",
      "1764  Middle East and North Africa                 Yemen           45.0   \n",
      "1765  Middle East and North Africa                 Yemen           45.0   \n",
      "1766  Middle East and North Africa                 Yemen           45.0   \n",
      "1767  Middle East and North Africa                 Yemen           45.0   \n",
      "1768  Middle East and North Africa                 Yemen           45.0   \n",
      "1769  Middle East and North Africa                 Yemen           45.0   \n",
      "1770  Middle East and North Africa                 Yemen          138.0   \n",
      "1771  Middle East and North Africa                 Yemen          138.0   \n",
      "1772  Middle East and North Africa                 Yemen           45.0   \n",
      "1773  Middle East and North Africa                 Yemen           45.0   \n",
      "1774  Middle East and North Africa                 Yemen          138.0   \n",
      "1775  Middle East and North Africa                 Yemen           45.0   \n",
      "1776  Middle East and North Africa                 Yemen           45.0   \n",
      "1777  Middle East and North Africa                 Yemen           45.0   \n",
      "1778  Middle East and North Africa                 Yemen          138.0   \n",
      "1779  Middle East and North Africa                 Yemen          138.0   \n",
      "1780  Middle East and North Africa                 Yemen          138.0   \n",
      "1781  Middle East and North Africa                 Yemen          138.0   \n",
      "1782  Middle East and North Africa                 Yemen          138.0   \n",
      "1783  Middle East and North Africa                 Yemen          138.0   \n",
      "1784  Middle East and North Africa                 Yemen          137.0   \n",
      "1785  Middle East and North Africa                 Yemen          137.0   \n",
      "1786            Africa (excl MENA)              Zimbabwe          139.0   \n",
      "1787            Africa (excl MENA)              Zimbabwe          139.0   \n",
      "1788            Africa (excl MENA)              Zimbabwe          139.0   \n",
      "\n",
      "                                Peace Process Name    Stage Signed Date  \\\n",
      "0     Afghanistan: 2000s Post-intervention process   SubPar  2016-09-22   \n",
      "1     Afghanistan: 2000s Post-intervention process      Imp  2014-09-21   \n",
      "2     Afghanistan: 2000s Post-intervention process      Imp  2012-07-08   \n",
      "3     Afghanistan: 2000s Post-intervention process      Pre  2011-12-05   \n",
      "4     Afghanistan: 2000s Post-intervention process      Imp  2011-11-02   \n",
      "5     Afghanistan: 2000s Post-intervention process      Imp  2010-07-22   \n",
      "6     Afghanistan: 2000s Post-intervention process      Pre  2010-06-06   \n",
      "7     Afghanistan: 2000s Post-intervention process      Imp  2010-01-28   \n",
      "8     Afghanistan: 2000s Post-intervention process   SubPar  2009-03-31   \n",
      "9     Afghanistan: 2000s Post-intervention process      Imp  2009-03-27   \n",
      "10    Afghanistan: 2000s Post-intervention process      Imp  2008-06-12   \n",
      "11    Afghanistan: 2000s Post-intervention process      Imp  2007-07-03   \n",
      "12    Afghanistan: 2000s Post-intervention process   SubPar  2006-02-01   \n",
      "13    Afghanistan: 2000s Post-intervention process      Imp  2004-04-01   \n",
      "14    Afghanistan: 2000s Post-intervention process   SubPar  2002-12-24   \n",
      "15    Afghanistan: 2000s Post-intervention process      Imp  2002-01-22   \n",
      "16    Afghanistan: 2000s Post-intervention process   SubPar  2001-12-05   \n",
      "17    Afghanistan: 2000s Post-intervention process      Pre  1999-07-19   \n",
      "18              Afghanistan: 1990s Taliban process   SubPar  1993-03-07   \n",
      "19              Afghanistan: 1990s Taliban process   SubPar  1992-04-24   \n",
      "20    Afghanistan: 2000s Post-intervention process   SubPar  2007-08-12   \n",
      "21                     Algeria: Bouteflika Process   SubPar  2005-08-14   \n",
      "22                     Algeria: Bouteflika Process      Imp  1999-07-20   \n",
      "23                     Algeria: Bouteflika Process   SubPar  1999-07-13   \n",
      "24                     Algeria: Bouteflika Process   SubPar  1996-09-17   \n",
      "25                     Algeria: Bouteflika Process      Pre  1995-01-13   \n",
      "26                     Algeria: Bouteflika Process      Pre  1994-01-26   \n",
      "27                           Angola: UNITA process   SubPar  2002-04-04   \n",
      "28                           Angola: UNITA process      Imp  2002-03-13   \n",
      "29                           Angola: UNITA process      Imp  1999-02-18   \n",
      "...                                            ...      ...         ...   \n",
      "1759                  Yemen Inter-group Agreements   SubPar  2014-12-04   \n",
      "1760                           Yemen peace process      Imp  2014-11-01   \n",
      "1761                  Yemen Inter-group Agreements      Cea  2014-10-24   \n",
      "1762                  Yemen Inter-group Agreements      Cea  2014-10-23   \n",
      "1763                           Yemen peace process   SubPar  2014-09-21   \n",
      "1764                  Yemen Inter-group Agreements   SubPar  2014-08-07   \n",
      "1765                  Yemen Inter-group Agreements      Cea  2014-08-04   \n",
      "1766                  Yemen Inter-group Agreements      Cea  2014-08-02   \n",
      "1767                  Yemen Inter-group Agreements      Cea  2014-07-15   \n",
      "1768                  Yemen Inter-group Agreements      Pre  2014-06-26   \n",
      "1769                  Yemen Inter-group Agreements      Cea  2014-05-02   \n",
      "1770                           Yemen peace process      Imp  2014-03-08   \n",
      "1771                           Yemen peace process      Imp  2014-02-10   \n",
      "1772                  Yemen Inter-group Agreements      Cea  2014-02-09   \n",
      "1773                  Yemen Inter-group Agreements      Cea  2014-02-04   \n",
      "1774                           Yemen peace process   SubPar  2014-01-25   \n",
      "1775                  Yemen Inter-group Agreements      Cea  2014-01-20   \n",
      "1776                  Yemen Inter-group Agreements      Cea  2014-01-11   \n",
      "1777                  Yemen Inter-group Agreements      Cea  2014-01-06   \n",
      "1778                           Yemen peace process      Imp  2011-12-07   \n",
      "1779                           Yemen peace process   SubPar  2011-11-23   \n",
      "1780                           Yemen peace process   SubPar  2011-11-23   \n",
      "1781                           Yemen peace process   SubPar  2011-09-12   \n",
      "1782                           Yemen peace process      Cea  2010-02-12   \n",
      "1783                           Yemen peace process      Cea  2008-02-01   \n",
      "1784                     Yemen unification process      Cea  1994-06-30   \n",
      "1785                     Yemen unification process   SubPar  1990-04-22   \n",
      "1786                Zimbabwe post-election process  SubComp  2013-03-19   \n",
      "1787                Zimbabwe post-election process   SubPar  2008-09-15   \n",
      "1788                Zimbabwe post-election process      Pre  2008-07-21   \n",
      "\n",
      "     Agreement/Conflict Level       Conflict Nature          Agreement Status  \\\n",
      "0                       Intra            Government  Multiparty signed/agreed   \n",
      "1                       Intra            Government  Multiparty signed/agreed   \n",
      "2                  InterIntra            Government  Multiparty signed/agreed   \n",
      "3                  InterIntra            Government  Multiparty signed/agreed   \n",
      "4                  InterIntra            Government  Multiparty signed/agreed   \n",
      "5                  InterIntra            Government  Multiparty signed/agreed   \n",
      "6                       Intra            Government  Multiparty signed/agreed   \n",
      "7                  InterIntra            Government  Multiparty signed/agreed   \n",
      "8                  InterIntra            Government  Multiparty signed/agreed   \n",
      "9                  InterIntra            Government  Multiparty signed/agreed   \n",
      "10                 InterIntra            Government  Multiparty signed/agreed   \n",
      "11                 InterIntra            Government  Multiparty signed/agreed   \n",
      "12                 InterIntra            Government  Multiparty signed/agreed   \n",
      "13                 InterIntra            Government  Multiparty signed/agreed   \n",
      "14                 InterIntra            Government  Multiparty signed/agreed   \n",
      "15                 InterIntra            Government  Multiparty signed/agreed   \n",
      "16                      Intra            Government  Multiparty signed/agreed   \n",
      "17                 InterIntra            Government  Multiparty signed/agreed   \n",
      "18                      Intra            Government  Multiparty signed/agreed   \n",
      "19                      Intra            Government  Multiparty signed/agreed   \n",
      "20                 InterIntra             Territory  Multiparty signed/agreed   \n",
      "21                      Intra            Government       Unilateral document   \n",
      "22                      Intra            Government       Unilateral document   \n",
      "23                      Intra            Government       Unilateral document   \n",
      "24                      Intra            Government  Multiparty signed/agreed   \n",
      "25                      Intra            Government  Multiparty signed/agreed   \n",
      "26                      Intra            Government  Multiparty signed/agreed   \n",
      "27                      Intra            Government  Multiparty signed/agreed   \n",
      "28                      Intra            Government  Multiparty signed/agreed   \n",
      "29                      Intra            Government  Multiparty signed/agreed   \n",
      "...                       ...                   ...                       ...   \n",
      "1759               IntraLocal           Inter-group  Multiparty signed/agreed   \n",
      "1760                    Intra  Government/territory  Multiparty signed/agreed   \n",
      "1761               IntraLocal           Inter-group  Multiparty signed/agreed   \n",
      "1762               IntraLocal           Inter-group  Multiparty signed/agreed   \n",
      "1763                    Intra  Government/territory  Multiparty signed/agreed   \n",
      "1764               IntraLocal           Inter-group  Multiparty signed/agreed   \n",
      "1765               IntraLocal           Inter-group  Multiparty signed/agreed   \n",
      "1766               IntraLocal           Inter-group  Multiparty signed/agreed   \n",
      "1767               IntraLocal           Inter-group  Multiparty signed/agreed   \n",
      "1768               IntraLocal           Inter-group  Multiparty signed/agreed   \n",
      "1769               IntraLocal           Inter-group  Multiparty signed/agreed   \n",
      "1770                    Intra            Government       Unilateral document   \n",
      "1771                    Intra            Government       Unilateral document   \n",
      "1772               IntraLocal           Inter-group  Multiparty signed/agreed   \n",
      "1773               IntraLocal           Inter-group  Multiparty signed/agreed   \n",
      "1774                    Intra            Government  Multiparty signed/agreed   \n",
      "1775               IntraLocal           Inter-group  Multiparty signed/agreed   \n",
      "1776               IntraLocal           Inter-group       Unilateral document   \n",
      "1777               IntraLocal           Inter-group  Multiparty signed/agreed   \n",
      "1778                    Intra            Government       Unilateral document   \n",
      "1779                    Intra            Government  Multiparty signed/agreed   \n",
      "1780                    Intra            Government  Multiparty signed/agreed   \n",
      "1781                    Intra            Government       Unilateral document   \n",
      "1782                    Intra            Government  Multiparty signed/agreed   \n",
      "1783                    Intra            Government  Multiparty signed/agreed   \n",
      "1784                    Intra  Government/territory  Multiparty signed/agreed   \n",
      "1785               InterIntra             Territory  Multiparty signed/agreed   \n",
      "1786                    Intra            Government  Multiparty signed/agreed   \n",
      "1787                    Intra            Government  Multiparty signed/agreed   \n",
      "1788                    Intra            Government  Multiparty signed/agreed   \n",
      "\n",
      "                                         Agreement Text  \n",
      "0     Agreement Between Goira & Hezb-E-Islami Of Afg...  \n",
      "1     Agreement between the Two Campaign Teams Regar...  \n",
      "2     The Tokyo Declaration Partnership for Self-Rel...  \n",
      "3     The International Afghanistan Conference in Bo...  \n",
      "4     Istanbul Process on Regional Security and Coop...  \n",
      "5     A Renewed Commitment by the Afghan Government ...  \n",
      "6     Resolution Adopted at the Conclusion of the Na...  \n",
      "7     Communiqué of “Afghanistan: The London Confere...  \n",
      "8     Chairmen's Statement of the International Conf...  \n",
      "9     Declaration of the Special Conference on Afgha...  \n",
      "10    Declaration of the International Conference in...  \n",
      "11    ROME CONFERENCE ON JUSTICE AND RULE OF LAW IN ...  \n",
      "12    THE LONDON CONFERENCE ON AFGHANISTAN\\r\\n\\r\\n31...  \n",
      "13    International Afghanistan Conference in Berlin...  \n",
      "14    AFGHANISTAN: GOOD-NEIGHBOURLY RELATIONS DECLAR...  \n",
      "15    Co-chairs' Summary of Conclusions\\r\\n\\r\\nThe I...  \n",
      "16    AGREEMENT ON PROVISIONAL ARRANGEMENTS IN AFGHA...  \n",
      "17    Tashkent Declaration on Fundamental Principles...  \n",
      "18    Afghan Peace Accord\\r\\n\\r\\nGiven our submissio...  \n",
      "19    Peshawar Accord\\r\\n\\r\\nIn the Name of Allah, t...  \n",
      "20    Joint Declaration adopted by Pak-Afghan Joint ...  \n",
      "21    Charter Project for Peace and National Reconci...  \n",
      "22    Texts for Implementing Acts relating to the Re...  \n",
      "23    Civil Harmony Act\\r\\n\\r\\nAct relating to the r...  \n",
      "24     \\r\\n\\r\\n \\r\\n\\r\\n \\r\\n\\r\\nDEMOCRATIC AND POPU...  \n",
      "25    Platform for a political and peaceful solution...  \n",
      "26    Democratic and Popular Republic of Algeria\\r\\n...  \n",
      "27    \\r\\nAnnex to the identical letters dated 25 Ap...  \n",
      "28    Angolan Government’s Peace Plan\\r\\n\\r\\n \\r\\n\\r...  \n",
      "29    Agreement with UNITA-Renovada Updating the Lus...  \n",
      "...                                                 ...  \n",
      "1759  Agreement between the Tribes of ʿAbidah and al...  \n",
      "1760  Peace and National Partnership Implementation ...  \n",
      "1761  Agreement to Cease Fire between the Tihami Mov...  \n",
      "1762  Untitled Agreement [in Yarim, Ibb]\\r\\nWith God...  \n",
      "1763  The Peace and National Partnership Agreement 2...  \n",
      "1764  In the name of God, most Gracious, most Compas...  \n",
      "1765  In the name of God, most Gracious, most Compas...  \n",
      "1766  In the name of God, most Gracious, most Compas...  \n",
      "1767  In the name of God, most Gracious, most Compas...  \n",
      "1768  Agreement between Ansar Allah and the Salafist...  \n",
      "1769  Agreement between Al-ʿAwlaqī Tribe and Al-Qae...  \n",
      "1770  Decision of the President of the Republic No. ...  \n",
      "1771  Final Report from the Region Defining Committe...  \n",
      "1772  Agreement Between the Houthis and the Tribes\\r...  \n",
      "1773  Pa-X P\\r\\n\\r\\nIn the name of Allah, the Benefi...  \n",
      "1774  National Dialogue Conference Outcomes Document...  \n",
      "1775  In the Name of Allah, Most Gracious, Most Merc...  \n",
      "1776  In the name of Allah, the Beneficial, the Merc...  \n",
      "1777  In the name of Allah the Merciful \\r\\n\\r\\nMinu...  \n",
      "1778  Decree No. (184) for the year 2011, to Form a ...  \n",
      "1779  In the name of God, the Merciful, the Compassi...  \n",
      "1780  Agreement\\r\\nThe signatories to this Agreement...  \n",
      "1781  Presidential Decree No. (24) FY 2011, 12 Septe...  \n",
      "1782  The Six-Point GoY-Huthi Agreement at the Cease...  \n",
      "1783  APPENDIX F\\r\\nConflict Ceasefire Conditions\\r\\...  \n",
      "1784  Annex\\r\\n\\r\\nAGREEMENT ON A CEASE-FIRE IN THE ...  \n",
      "1785  Agreement Establishing a Union between the Sta...  \n",
      "1786   \\r\\n\\r\\nPreamble \\r\\n\\r\\nWe the people of Zim...  \n",
      "1787  Agreement between ZANU-PF and the two MDC form...  \n",
      "1788  MEMORANDUM OF UNDERSTANDING BETWEEN THE ZIMBAB...  \n",
      "\n",
      "[1789 rows x 12 columns]\n"
     ]
    }
   ],
   "source": [
    "print df_corpus"
   ]
  },
  {
   "cell_type": "code",
   "execution_count": 14,
   "metadata": {},
   "outputs": [
    {
     "data": {
      "text/plain": [
       "['AgreementId',\n",
       " 'Name',\n",
       " 'Region',\n",
       " 'Country',\n",
       " 'Peace Process',\n",
       " 'Peace Process Name',\n",
       " 'Stage',\n",
       " 'Signed Date',\n",
       " 'Agreement/Conflict Level',\n",
       " 'Conflict Nature',\n",
       " 'Agreement Status',\n",
       " 'Agreement Text']"
      ]
     },
     "execution_count": 14,
     "metadata": {},
     "output_type": "execute_result"
    }
   ],
   "source": [
    "columns = list(df_corpus.columns.values)\n",
    "list(df_corpus.columns.values)"
   ]
  },
  {
   "cell_type": "code",
   "execution_count": 38,
   "metadata": {},
   "outputs": [],
   "source": [
    "def distinct_counter(name1, name2, name_csv):\n",
    "    print df_corpus.groupby(name1)[name2].nunique()\n",
    "    df_corpus.groupby(name1)[name2].nunique().to_csv('CSV/name_csv.csv')"
   ]
  },
  {
   "cell_type": "code",
   "execution_count": 39,
   "metadata": {},
   "outputs": [
    {
     "name": "stdout",
     "output_type": "stream",
     "text": [
      "Stage\n",
      "Cea        366\n",
      "Imp        323\n",
      "Oth          8\n",
      "Pre        490\n",
      "Ren         39\n",
      "SubComp    105\n",
      "SubPar     434\n",
      "Name: Name, dtype: int64\n"
     ]
    },
    {
     "name": "stderr",
     "output_type": "stream",
     "text": [
      "/home/jaume/app/anaconda2/lib/python2.7/site-packages/ipykernel_launcher.py:3: FutureWarning: The signature of `Series.to_csv` was aligned to that of `DataFrame.to_csv`, and argument 'header' will change its default value from False to True: please pass an explicit value to suppress this warning.\n",
      "  This is separate from the ipykernel package so we can avoid doing imports until\n"
     ]
    }
   ],
   "source": [
    "distinct_counter('Stage', 'Name', 'stage')"
   ]
  },
  {
   "cell_type": "code",
   "execution_count": 41,
   "metadata": {},
   "outputs": [
    {
     "name": "stdout",
     "output_type": "stream",
     "text": [
      "Region\n",
      "Africa (excl MENA)              527\n",
      "Americas                        195\n",
      "Asia and Pacific                361\n",
      "Cross-regional                   34\n",
      "Europe and Eurasia              392\n",
      "Middle East and North Africa    248\n",
      "Name: Name, dtype: int64\n"
     ]
    },
    {
     "name": "stderr",
     "output_type": "stream",
     "text": [
      "/home/jaume/app/anaconda2/lib/python2.7/site-packages/ipykernel_launcher.py:3: FutureWarning: The signature of `Series.to_csv` was aligned to that of `DataFrame.to_csv`, and argument 'header' will change its default value from False to True: please pass an explicit value to suppress this warning.\n",
      "  This is separate from the ipykernel package so we can avoid doing imports until\n"
     ]
    }
   ],
   "source": [
    "distinct_counter('Region', 'Name', 'region')"
   ]
  },
  {
   "cell_type": "code",
   "execution_count": 44,
   "metadata": {},
   "outputs": [
    {
     "name": "stdout",
     "output_type": "stream",
     "text": [
      "Peace Process\n",
      "1.0        2\n",
      "2.0       19\n",
      "3.0        6\n",
      "4.0       12\n",
      "5.0       19\n",
      "6.0        4\n",
      "7.0        2\n",
      "8.0       22\n",
      "9.0        2\n",
      "10.0      35\n",
      "11.0       5\n",
      "12.0       1\n",
      "13.0       1\n",
      "16.0       5\n",
      "17.0      14\n",
      "18.0       8\n",
      "19.0      22\n",
      "20.0       6\n",
      "21.0       2\n",
      "22.0       5\n",
      "23.0       3\n",
      "24.0      25\n",
      "25.0       2\n",
      "26.0       1\n",
      "27.0       7\n",
      "28.0       5\n",
      "29.0       4\n",
      "30.0       5\n",
      "31.0      15\n",
      "32.0       8\n",
      "        ... \n",
      "130.0     16\n",
      "131.0     21\n",
      "132.0      1\n",
      "133.0      3\n",
      "134.0      1\n",
      "135.0     17\n",
      "136.0      6\n",
      "137.0      2\n",
      "138.0     26\n",
      "139.0      3\n",
      "140.0    119\n",
      "141.0      4\n",
      "145.0     41\n",
      "148.0     10\n",
      "149.0      6\n",
      "150.0      3\n",
      "151.0      1\n",
      "170.0      1\n",
      "174.0     14\n",
      "175.0      6\n",
      "176.0      1\n",
      "177.0      5\n",
      "178.0      1\n",
      "179.0     54\n",
      "180.0     17\n",
      "181.0      2\n",
      "200.0      1\n",
      "201.0     18\n",
      "202.0      2\n",
      "203.0      1\n",
      "Name: Name, Length: 151, dtype: int64\n"
     ]
    },
    {
     "name": "stderr",
     "output_type": "stream",
     "text": [
      "/home/jaume/app/anaconda2/lib/python2.7/site-packages/ipykernel_launcher.py:3: FutureWarning: The signature of `Series.to_csv` was aligned to that of `DataFrame.to_csv`, and argument 'header' will change its default value from False to True: please pass an explicit value to suppress this warning.\n",
      "  This is separate from the ipykernel package so we can avoid doing imports until\n"
     ]
    }
   ],
   "source": [
    "distinct_counter('Peace Process', 'Name', 'Peace_Process')"
   ]
  },
  {
   "cell_type": "code",
   "execution_count": 45,
   "metadata": {},
   "outputs": [
    {
     "name": "stdout",
     "output_type": "stream",
     "text": [
      "Peace Process Name\n",
      "Abkhazia peace process                                47\n",
      "Afghanistan: 1990s Taliban process                     2\n",
      "Afghanistan: 2000s Post-intervention process          19\n",
      "African Great Lakes: Regional Process                  4\n",
      "Algeria: Bouteflika Process                            6\n",
      "Angola: UNITA process                                 12\n",
      "Argentina-UK: Falklands process                        2\n",
      "Azerbaijan-Nagorno Karabakh: Process                  22\n",
      "Bahrain: Reform-based peace process                    5\n",
      "Bangladesh-Chittagong Hills Tracts: peace process      1\n",
      "Bosnia peace process                                 119\n",
      "Bougainville: peace process                           35\n",
      "Burundi: 2015 onwards process                          2\n",
      "Burundi: Arusha and related peace process             22\n",
      "Burundi: Local Process                                 2\n",
      "CAR: Bangui process                                    5\n",
      "CAR: coups and rebellions process                     14\n",
      "Cabinda process                                        1\n",
      "Cambodian peace process                                6\n",
      "Cameroon-Nigeria border peace process                  2\n",
      "Casamance process                                      2\n",
      "Chad-Libya border peace process                        1\n",
      "Chad-Sudan Agreements                                  6\n",
      "Chad: 'third war' process                              2\n",
      "Chad: Fourth War Process                               4\n",
      "Chechnya peace process                                21\n",
      "China-India border dispute peace process               5\n",
      "China-Russia border dispute peace process              5\n",
      "Colombia I - Gaviria                                  38\n",
      "Colombia II - Samper                                  11\n",
      "                                                    ... \n",
      "Sierra Leone peace process                             9\n",
      "Solomon Islands peace process                          3\n",
      "Somali Local Peace Processes                           4\n",
      "Somalia Peace Process                                 42\n",
      "Somalia-Puntland Peace Process                         4\n",
      "Somalia/Puntland: Local Processes                      1\n",
      "Somaliland-Puntland Peace Process                      3\n",
      "South Africa - Namibia process                         4\n",
      "South Africa peace process                            11\n",
      "South Ossetia peace process                           13\n",
      "South Sudan post-secession process                    30\n",
      "South Sudan: Local agreements                          2\n",
      "Spain - Basque internal process                        3\n",
      "Sri Lanka LTTE 2000s process                          23\n",
      "Sri Lanka constitutional reform process                2\n",
      "Sudan: Local Peace Processes                           7\n",
      "Sudanese peace process                                31\n",
      "Syrian Local Agreements                               54\n",
      "Syrian peace process                                  16\n",
      "Tajikistan peace process                              21\n",
      "Thailand peace process                                 1\n",
      "Togo peace process                                     3\n",
      "Tunisia reform process                                 1\n",
      "US-North Korea interstate process                      1\n",
      "Uganda peace process                                  17\n",
      "Ukraine peace process                                  6\n",
      "Yemen Inter-group Agreements                          18\n",
      "Yemen peace process                                   26\n",
      "Yemen unification process                              2\n",
      "Zimbabwe post-election process                         3\n",
      "Name: Name, Length: 151, dtype: int64\n"
     ]
    },
    {
     "name": "stderr",
     "output_type": "stream",
     "text": [
      "/home/jaume/app/anaconda2/lib/python2.7/site-packages/ipykernel_launcher.py:3: FutureWarning: The signature of `Series.to_csv` was aligned to that of `DataFrame.to_csv`, and argument 'header' will change its default value from False to True: please pass an explicit value to suppress this warning.\n",
      "  This is separate from the ipykernel package so we can avoid doing imports until\n"
     ]
    }
   ],
   "source": [
    "distinct_counter('Peace Process Name', 'Name', 'Peace_Process_Name')"
   ]
  },
  {
   "cell_type": "code",
   "execution_count": 46,
   "metadata": {},
   "outputs": [
    {
     "name": "stdout",
     "output_type": "stream",
     "text": [
      "Agreement/Conflict Level\n",
      "Inter           72\n",
      "InterIntra     232\n",
      "Intra         1264\n",
      "IntraLocal     189\n",
      "Name: Name, dtype: int64\n"
     ]
    },
    {
     "name": "stderr",
     "output_type": "stream",
     "text": [
      "/home/jaume/app/anaconda2/lib/python2.7/site-packages/ipykernel_launcher.py:3: FutureWarning: The signature of `Series.to_csv` was aligned to that of `DataFrame.to_csv`, and argument 'header' will change its default value from False to True: please pass an explicit value to suppress this warning.\n",
      "  This is separate from the ipykernel package so we can avoid doing imports until\n"
     ]
    }
   ],
   "source": [
    "distinct_counter('Agreement/Conflict Level', 'Name', 'Agreement_Conflict_Level')"
   ]
  },
  {
   "cell_type": "code",
   "execution_count": 47,
   "metadata": {},
   "outputs": [
    {
     "name": "stdout",
     "output_type": "stream",
     "text": [
      "Conflict Nature\n",
      "Government              660\n",
      "Government/territory    784\n",
      "Inter-group             204\n",
      "Other                     1\n",
      "Territory               107\n",
      "Name: Name, dtype: int64\n"
     ]
    },
    {
     "name": "stderr",
     "output_type": "stream",
     "text": [
      "/home/jaume/app/anaconda2/lib/python2.7/site-packages/ipykernel_launcher.py:3: FutureWarning: The signature of `Series.to_csv` was aligned to that of `DataFrame.to_csv`, and argument 'header' will change its default value from False to True: please pass an explicit value to suppress this warning.\n",
      "  This is separate from the ipykernel package so we can avoid doing imports until\n"
     ]
    }
   ],
   "source": [
    "distinct_counter('Conflict Nature', 'Name', 'Conflict_Nature')"
   ]
  },
  {
   "cell_type": "code",
   "execution_count": 48,
   "metadata": {},
   "outputs": [
    {
     "name": "stdout",
     "output_type": "stream",
     "text": [
      "Agreement Status\n",
      "Agreement with subsequent status       7\n",
      "Multiparty signed/agreed            1619\n",
      "Status unclear                        10\n",
      "Unilateral document                  119\n",
      "Name: Name, dtype: int64\n"
     ]
    },
    {
     "name": "stderr",
     "output_type": "stream",
     "text": [
      "/home/jaume/app/anaconda2/lib/python2.7/site-packages/ipykernel_launcher.py:3: FutureWarning: The signature of `Series.to_csv` was aligned to that of `DataFrame.to_csv`, and argument 'header' will change its default value from False to True: please pass an explicit value to suppress this warning.\n",
      "  This is separate from the ipykernel package so we can avoid doing imports until\n"
     ]
    }
   ],
   "source": [
    "distinct_counter('Agreement Status', 'Name', 'Agreement_Status')"
   ]
  },
  {
   "cell_type": "code",
   "execution_count": null,
   "metadata": {},
   "outputs": [],
   "source": [
    "distinct_counter('', 'Name', '')"
   ]
  }
 ],
 "metadata": {
  "kernelspec": {
   "display_name": "Python 3",
   "language": "python",
   "name": "python3"
  },
  "language_info": {
   "codemirror_mode": {
    "name": "ipython",
    "version": 3
   },
   "file_extension": ".py",
   "mimetype": "text/x-python",
   "name": "python",
   "nbconvert_exporter": "python",
   "pygments_lexer": "ipython3",
   "version": "3.6.9"
  }
 },
 "nbformat": 4,
 "nbformat_minor": 2
}
